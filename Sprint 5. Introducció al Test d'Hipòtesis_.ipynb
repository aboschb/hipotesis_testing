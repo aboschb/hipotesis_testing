{
 "cells": [
  {
   "cell_type": "markdown",
   "id": "d34fc570",
   "metadata": {},
   "source": [
    "# Exercici 1"
   ]
  },
  {
   "cell_type": "markdown",
   "id": "e83f1a7e",
   "metadata": {},
   "source": [
    "Descarrega el dataset adjunt de dades oficials de la UEFA i selecciona un atribut del conjunt de dades. Calcula el p-valor i digues si rebutja la hipòtesi nul·la agafant un alfa de 5%. "
   ]
  },
  {
   "cell_type": "code",
   "execution_count": 1,
   "id": "79416b9f",
   "metadata": {},
   "outputs": [
    {
     "data": {
      "text/html": [
       "<div>\n",
       "<style scoped>\n",
       "    .dataframe tbody tr th:only-of-type {\n",
       "        vertical-align: middle;\n",
       "    }\n",
       "\n",
       "    .dataframe tbody tr th {\n",
       "        vertical-align: top;\n",
       "    }\n",
       "\n",
       "    .dataframe thead th {\n",
       "        text-align: right;\n",
       "    }\n",
       "</style>\n",
       "<table border=\"1\" class=\"dataframe\">\n",
       "  <thead>\n",
       "    <tr style=\"text-align: right;\">\n",
       "      <th></th>\n",
       "      <th>Rk</th>\n",
       "      <th>Squad</th>\n",
       "      <th>Country</th>\n",
       "      <th>LgRk</th>\n",
       "      <th>MP</th>\n",
       "      <th>W</th>\n",
       "      <th>D</th>\n",
       "      <th>L</th>\n",
       "      <th>GF</th>\n",
       "      <th>GA</th>\n",
       "      <th>GD</th>\n",
       "      <th>Pts</th>\n",
       "      <th>Pts/G</th>\n",
       "      <th>xG</th>\n",
       "      <th>xGA</th>\n",
       "      <th>xGD</th>\n",
       "      <th>xGD/90</th>\n",
       "      <th>Last 5</th>\n",
       "      <th>Attendance</th>\n",
       "      <th>Top Team Scorer</th>\n",
       "      <th>Goalkeeper</th>\n",
       "    </tr>\n",
       "  </thead>\n",
       "  <tbody>\n",
       "    <tr>\n",
       "      <th>0</th>\n",
       "      <td>1</td>\n",
       "      <td>Manchester City</td>\n",
       "      <td>ENG</td>\n",
       "      <td>1</td>\n",
       "      <td>37</td>\n",
       "      <td>28</td>\n",
       "      <td>6</td>\n",
       "      <td>3</td>\n",
       "      <td>96</td>\n",
       "      <td>24</td>\n",
       "      <td>72</td>\n",
       "      <td>90</td>\n",
       "      <td>2.43</td>\n",
       "      <td>86.1</td>\n",
       "      <td>26.8</td>\n",
       "      <td>59.3</td>\n",
       "      <td>1.60</td>\n",
       "      <td>W W W W D</td>\n",
       "      <td>52739</td>\n",
       "      <td>Kevin De Bruyne - 15</td>\n",
       "      <td>Ederson</td>\n",
       "    </tr>\n",
       "    <tr>\n",
       "      <th>1</th>\n",
       "      <td>2</td>\n",
       "      <td>Liverpool</td>\n",
       "      <td>ENG</td>\n",
       "      <td>2</td>\n",
       "      <td>36</td>\n",
       "      <td>26</td>\n",
       "      <td>8</td>\n",
       "      <td>2</td>\n",
       "      <td>89</td>\n",
       "      <td>24</td>\n",
       "      <td>65</td>\n",
       "      <td>86</td>\n",
       "      <td>2.39</td>\n",
       "      <td>84.6</td>\n",
       "      <td>33.1</td>\n",
       "      <td>51.4</td>\n",
       "      <td>1.43</td>\n",
       "      <td>W W W D W</td>\n",
       "      <td>53367</td>\n",
       "      <td>Mohamed Salah - 22</td>\n",
       "      <td>Alisson</td>\n",
       "    </tr>\n",
       "    <tr>\n",
       "      <th>2</th>\n",
       "      <td>3</td>\n",
       "      <td>Real Madrid</td>\n",
       "      <td>ESP</td>\n",
       "      <td>1</td>\n",
       "      <td>37</td>\n",
       "      <td>26</td>\n",
       "      <td>7</td>\n",
       "      <td>4</td>\n",
       "      <td>80</td>\n",
       "      <td>31</td>\n",
       "      <td>49</td>\n",
       "      <td>85</td>\n",
       "      <td>2.30</td>\n",
       "      <td>73.0</td>\n",
       "      <td>45.8</td>\n",
       "      <td>27.2</td>\n",
       "      <td>0.73</td>\n",
       "      <td>W W L W D</td>\n",
       "      <td>40624</td>\n",
       "      <td>Karim Benzema - 27</td>\n",
       "      <td>Thibaut Courtois</td>\n",
       "    </tr>\n",
       "    <tr>\n",
       "      <th>3</th>\n",
       "      <td>4</td>\n",
       "      <td>Bayern Munich</td>\n",
       "      <td>GER</td>\n",
       "      <td>1</td>\n",
       "      <td>34</td>\n",
       "      <td>24</td>\n",
       "      <td>5</td>\n",
       "      <td>5</td>\n",
       "      <td>97</td>\n",
       "      <td>37</td>\n",
       "      <td>60</td>\n",
       "      <td>77</td>\n",
       "      <td>2.26</td>\n",
       "      <td>88.1</td>\n",
       "      <td>37.1</td>\n",
       "      <td>51.0</td>\n",
       "      <td>1.50</td>\n",
       "      <td>W W L D D</td>\n",
       "      <td>33176</td>\n",
       "      <td>Robert Lewandowski - 35</td>\n",
       "      <td>Manuel Neuer</td>\n",
       "    </tr>\n",
       "    <tr>\n",
       "      <th>4</th>\n",
       "      <td>5</td>\n",
       "      <td>Paris S-G</td>\n",
       "      <td>FRA</td>\n",
       "      <td>1</td>\n",
       "      <td>37</td>\n",
       "      <td>25</td>\n",
       "      <td>8</td>\n",
       "      <td>4</td>\n",
       "      <td>85</td>\n",
       "      <td>36</td>\n",
       "      <td>49</td>\n",
       "      <td>83</td>\n",
       "      <td>2.24</td>\n",
       "      <td>71.6</td>\n",
       "      <td>38.1</td>\n",
       "      <td>33.4</td>\n",
       "      <td>0.90</td>\n",
       "      <td>W D D D W</td>\n",
       "      <td>41188</td>\n",
       "      <td>Kylian Mbappé - 25</td>\n",
       "      <td>Keylor Navas</td>\n",
       "    </tr>\n",
       "  </tbody>\n",
       "</table>\n",
       "</div>"
      ],
      "text/plain": [
       "   Rk            Squad Country  LgRk  MP   W  D  L  GF  GA  GD  Pts  Pts/G  \\\n",
       "0   1  Manchester City     ENG     1  37  28  6  3  96  24  72   90   2.43   \n",
       "1   2        Liverpool     ENG     2  36  26  8  2  89  24  65   86   2.39   \n",
       "2   3      Real Madrid     ESP     1  37  26  7  4  80  31  49   85   2.30   \n",
       "3   4    Bayern Munich     GER     1  34  24  5  5  97  37  60   77   2.26   \n",
       "4   5        Paris S-G     FRA     1  37  25  8  4  85  36  49   83   2.24   \n",
       "\n",
       "     xG   xGA   xGD  xGD/90     Last 5  Attendance          Top Team Scorer  \\\n",
       "0  86.1  26.8  59.3    1.60  W W W W D       52739     Kevin De Bruyne - 15   \n",
       "1  84.6  33.1  51.4    1.43  W W W D W       53367       Mohamed Salah - 22   \n",
       "2  73.0  45.8  27.2    0.73  W W L W D       40624       Karim Benzema - 27   \n",
       "3  88.1  37.1  51.0    1.50  W W L D D       33176  Robert Lewandowski - 35   \n",
       "4  71.6  38.1  33.4    0.90  W D D D W       41188       Kylian Mbappé - 25   \n",
       "\n",
       "         Goalkeeper  \n",
       "0           Ederson  \n",
       "1           Alisson  \n",
       "2  Thibaut Courtois  \n",
       "3      Manuel Neuer  \n",
       "4      Keylor Navas  "
      ]
     },
     "execution_count": 1,
     "metadata": {},
     "output_type": "execute_result"
    }
   ],
   "source": [
    "# Importem les llibreries\n",
    "import pandas as pd\n",
    "import numpy as np\n",
    "import matplotlib.pyplot as plt\n",
    "import seaborn as sns\n",
    "import warnings\n",
    "warnings.filterwarnings('ignore')\n",
    "\n",
    "# Eliminem limitacions en l'amplada de les columnes\n",
    "pd.set_option('display.max_colwidth', None)\n",
    "pd.set_option('display.max_columns', None)\n",
    "\n",
    "# Carreguem el dataset i el visualitzem\n",
    "ruta = 'C:/Users/Ariadna/Desktop/IT ACADEMY/ESPECIALITZACIÓ/SPRINT 5/ENTREGA SPRINT 5/Lligues europees UEFA.csv'\n",
    "df_uefa = pd.read_csv(ruta, sep=';', encoding='latin2') # Especifiquem separadors i encoding\n",
    "df_uefa.head() # Mostrem els primers resultats"
   ]
  },
  {
   "cell_type": "code",
   "execution_count": 2,
   "id": "ce74fcd9",
   "metadata": {},
   "outputs": [
    {
     "data": {
      "text/plain": [
       "(98, 21)"
      ]
     },
     "execution_count": 2,
     "metadata": {},
     "output_type": "execute_result"
    }
   ],
   "source": [
    "# Mirarem també quantes files té el nostre dataset (necessitarem aquesta informació més endavant per fer càlculs)\n",
    "\n",
    "df_uefa.shape"
   ]
  },
  {
   "cell_type": "markdown",
   "id": "12d5fb91",
   "metadata": {},
   "source": [
    "Com podem veure, el nostre dataset té 98 files i 21 columnes."
   ]
  },
  {
   "cell_type": "code",
   "execution_count": 3,
   "id": "df4dba15",
   "metadata": {},
   "outputs": [
    {
     "data": {
      "text/plain": [
       "Rk                   int64\n",
       "Squad               object\n",
       "Country             object\n",
       "LgRk                 int64\n",
       "MP                   int64\n",
       "W                    int64\n",
       "D                    int64\n",
       "L                    int64\n",
       "GF                   int64\n",
       "GA                   int64\n",
       "GD                   int64\n",
       "Pts                  int64\n",
       "Pts/G              float64\n",
       "xG                 float64\n",
       "xGA                float64\n",
       "xGD                float64\n",
       "xGD/90             float64\n",
       "Last 5              object\n",
       "Attendance           int64\n",
       "Top Team Scorer     object\n",
       "Goalkeeper          object\n",
       "dtype: object"
      ]
     },
     "execution_count": 3,
     "metadata": {},
     "output_type": "execute_result"
    }
   ],
   "source": [
    "# Observem el tipus de variables del dataset per entendre de què es tracten\n",
    "df_uefa.dtypes"
   ]
  },
  {
   "cell_type": "markdown",
   "id": "659bc883",
   "metadata": {},
   "source": [
    "Primerament descriurem les variables per poder seleccionar un atribut que ens interessi."
   ]
  },
  {
   "cell_type": "markdown",
   "id": "c93eba8f",
   "metadata": {},
   "source": [
    "1. Rk (Classificació): Variable discreta que representa la classificació de l'equip o el conjunt en una lliga o competició.\n",
    "\n",
    "2. Squad (Equip): Variable categòrica nominal que representa el nom de l'equip de futbol.\n",
    "\n",
    "3. Country (País): Variable categòrica nominal que representa el país de l'equip.\n",
    "\n",
    "4. LgRk (Classificació de Lliga): Variable numèrica discreta que representa la classificació de l'equip dins de la lliga.\n",
    "\n",
    "5. MP (Partits Jugats): Variable numèrica discreta que representa el nombre de partits jugats per l'equip.\n",
    "\n",
    "6. W (Victòries): Variable numèrica discreta que representa el nombre de partits guanyats per l'equip.\n",
    "\n",
    "7. D (Empats): Variable numèrica discreta que representa el nombre de partits que han acabat en empat per l'equip.\n",
    "\n",
    "8. L (Derrotes): Variable numèrica discreta que representa el nombre de partits perduts per l'equip.\n",
    "\n",
    "9. GF (Gols a Favor): Variable numèrica discreta que representa el nombre total de gols marcats per l'equip.\n",
    "\n",
    "10. GA (Gols en Contra): Variable numèrica discreta que representa el nombre total de gols encaixats per l'equip.\n",
    "\n",
    "11. GD (Diferència de Gols): Variable numèrica discreta que representa la diferència entre els gols marcats (GF) i els gols encaixats (GA).\n",
    "\n",
    "12. Pts (Punts): Variable numèrica discreta que representa el nombre total de punts guanyats per l'equip a la lliga o competició.\n",
    "\n",
    "13. Pts/G (Punts Per Partit): Variable numèrica contínua que representa el nombre mitjà de punts guanyats per partit.\n",
    "\n",
    "14. xG (Gols Esperats): Variable numèrica contínua que representa el nombre de gols esperats que un equip hauria de marcar basant-se en diversos factors.\n",
    "\n",
    "15. xGA (Gols Esperats en Contra): Variable numèrica contínua que representa el nombre de gols esperats que un equip hauria d'encaixar basant-se en diversos factors.\n",
    "\n",
    "16. xGD (Diferència de Gols Esperada): Variable numèrica contínua que representa la diferència entre els gols esperats marcats (xG) i els gols esperats encaixats (xGA).\n",
    "\n",
    "17. xGD/90 (Diferència de Gols Esperada per 90 Minuts): Variable numèrica contínua que representa la diferència de gols esperada per cada 90 minuts de joc.\n",
    "\n",
    "18. Last 5 (Últims 5): Variable categòrica ordinal que ens dóna informació sobre el rendiment de l'equip en els darrers 5 partits (si ha guanyat o ha perdut). \n",
    "\n",
    "19. Attendance (Assistència): Variable numèrica discreta que representa el nombre d'espectadors o seguidors que han assistit als partits de l'equip.\n",
    "\n",
    "20. Top Team Scorer (Golejador Principal): Variable categòrica nominal que representa el nom del màxim golejador de l'equip.\n",
    "\n",
    "21. Goalkeeper (Porter): Variable categòrica nominal que representa el nom del porter de l'equip."
   ]
  },
  {
   "cell_type": "markdown",
   "id": "9f59f4eb",
   "metadata": {},
   "source": [
    "Com hem pogut veure, el dataset conté informació sobre la UEFA, incloent dades sobre el rendiment de l'equip, estadístiques i altres detalls com l'assistència del públic. Ens pot servir doncs, per analitzar el rendiment dels diferents equips. \n",
    "\n",
    "En aquest cas, hem decidit analitzar si l'assistència de públic influeix en el rendiment de l'equip. Per tant, seleccionarem la variable independent 'Attendance' (Assistència) i la variable dependent 'Pts' (Punts). Amb l'objectiu d'obtenir aquesta informació concreta, definim el test d'hipòtesi següent:\n",
    "- Ho (Hipòtesi nul.la): No hi ha relació entre les variables seleccionades. És a dir, el nivell d'assistència de públic no influeix en el rendiment de l'equip.\n",
    "- Ha (Hipòtesi alternativa): Hi ha una relació entre les variables seleccionades. És a dir, el nivell d'assistència influeix en el rendiment de l'equip."
   ]
  },
  {
   "cell_type": "markdown",
   "id": "2f185aeb",
   "metadata": {},
   "source": [
    "Ara farem un anàlisi de regressió per provar la relació entre l'assistència i els punts guanyats per l'equip, que ens proporcionarà el coeficient per a l'assistència, juntament amb el seu p-valor. D'aquesta manera podrem avaluar la significació estadística de la relació entre aquestes variables."
   ]
  },
  {
   "cell_type": "code",
   "execution_count": 4,
   "id": "aeb6461b",
   "metadata": {},
   "outputs": [
    {
     "name": "stdout",
     "output_type": "stream",
     "text": [
      "                            OLS Regression Results                            \n",
      "==============================================================================\n",
      "Dep. Variable:                    Pts   R-squared:                       0.336\n",
      "Model:                            OLS   Adj. R-squared:                  0.329\n",
      "Method:                 Least Squares   F-statistic:                     48.48\n",
      "Date:                Tue, 07 Nov 2023   Prob (F-statistic):           4.14e-10\n",
      "Time:                        15:36:42   Log-Likelihood:                -391.25\n",
      "No. Observations:                  98   AIC:                             786.5\n",
      "Df Residuals:                      96   BIC:                             791.7\n",
      "Df Model:                           1                                         \n",
      "Covariance Type:            nonrobust                                         \n",
      "==============================================================================\n",
      "                 coef    std err          t      P>|t|      [0.025      0.975]\n",
      "------------------------------------------------------------------------------\n",
      "const         34.4736      2.568     13.424      0.000      29.376      39.571\n",
      "Attendance     0.0006   9.04e-05      6.963      0.000       0.000       0.001\n",
      "==============================================================================\n",
      "Omnibus:                        2.117   Durbin-Watson:                   0.654\n",
      "Prob(Omnibus):                  0.347   Jarque-Bera (JB):                1.512\n",
      "Skew:                           0.063   Prob(JB):                        0.470\n",
      "Kurtosis:                       2.405   Cond. No.                     5.45e+04\n",
      "==============================================================================\n",
      "\n",
      "Notes:\n",
      "[1] Standard Errors assume that the covariance matrix of the errors is correctly specified.\n",
      "[2] The condition number is large, 5.45e+04. This might indicate that there are\n",
      "strong multicollinearity or other numerical problems.\n"
     ]
    }
   ],
   "source": [
    "# Importem la llibreria necessària per fer els càlculs\n",
    "import statsmodels.api as sm\n",
    "\n",
    "# Definim les variables independents i dependents\n",
    "X = df_uefa['Attendance']  # Variable independent (assistència)\n",
    "y = df_uefa['Pts']         # Variable dependent (punts)\n",
    "\n",
    "# Afegim una constant per al model\n",
    "X = sm.add_constant(X)\n",
    "\n",
    "# Creem el model de regressió\n",
    "model = sm.OLS(y, X).fit()\n",
    "\n",
    "# Obtenim els resultats de la regressió\n",
    "resultats = model.summary()\n",
    "\n",
    "# Mostrem els resultats\n",
    "print(resultats)\n"
   ]
  },
  {
   "cell_type": "markdown",
   "id": "7efe45c5",
   "metadata": {},
   "source": [
    "Els resultats de l'anàlisi de regressió són els següents:\n",
    "\n",
    "R-squared (R²): Aquesta és la proporció de la variabilitat de la variable dependent (Pts) que s'explica per la variable independent (Attendance). En aquest cas, R² és 0,336, el que significa que aproximadament el 33,6% de la variabilitat en els punts de l'equip es pot explicar per l'assistència. Això suggereix que hi ha una correlació moderada entre l'assistència i els punts de l'equip.\n",
    "\n",
    "F-statistic: Aquest valor estadístic és utilitzat per avaluar la significació global del model de regressió. En aquest cas és 48,48, i el p-valor associat és 4.14e-10 (pràcticament zero). Això indica que el model de regressió és estadísticament significatiu i que l'ús de l'assistència com a variable independent té un impacte significatiu en la predicció dels punts de l'equip.\n",
    "\n",
    "Coeficients:\n",
    "   - El coeficient constant (const) és 34,4736. Això significa que quan l'assistència és zero, es pot esperar que l'equip tingui al voltant de 34,47 punts.\n",
    "   - El coeficient de l'assistència (Attendance) és 0,0006. Això indica que per cada unitat addicional d'assistència, es pot esperar un augment de 0,0006 punts en la puntuació de l'equip.\n",
    "\n",
    "P-value: El p-valor associat al coeficient de l'assistència és 0,000, el que és molt menor que el nivell de significació típic d'α = 0,05. Segons els resultats de l'anàlisi de regressió, l'assistència té un impacte significatiu en els punts de l'equip. El model de regressió és estadísticament significatiu, i l'assistència té una influència positiva en el rendiment de l'equip en terme de punts.\n",
    "\n",
    "Aquests valors també ens indiquen que la relació entre les dues variables és positiva. És a dir, si augmenta la variable independent 'Assistance' augmenta també la variable dependent 'Pts'."
   ]
  },
  {
   "cell_type": "markdown",
   "id": "22a6fb0b",
   "metadata": {},
   "source": [
    "Finalment, volem saber si amb un nivell de significació del 5% (α = 0.05), el p-valor rebutja la hipòtesi nul.la. En aquest cas, el p-valor és 0.000, que és menor que α = 0.05. Això significa que podem rebutjar la hipòtesi nul.la i que per tant, hi ha prou evidència estadística per concloure que l'assistència influeix en el rendiment de l'equip en terme de punts amb un nivell de confiança del 95%.\n",
    "\n"
   ]
  },
  {
   "cell_type": "markdown",
   "id": "9756dadd",
   "metadata": {},
   "source": [
    "Validació i diagnòstic del model de regressió:\n",
    "\n",
    "Un cop observats els valors, ara passem a analitzar la relació entre les variables: la linealitat, homocestacitat, normalitat i independència.\n",
    "\n",
    "En primer lloc, per saber si la relació entre la variable independent i la dependent són lineals, podem observar-ho gràficament amb un diagrama de dispersió (scatterplot). "
   ]
  },
  {
   "cell_type": "code",
   "execution_count": 5,
   "id": "fc3cd945",
   "metadata": {},
   "outputs": [
    {
     "data": {
      "image/png": "[encoded data removed]",
      "text/plain": [
       "<Figure size 640x480 with 1 Axes>"
      ]
     },
     "metadata": {},
     "output_type": "display_data"
    }
   ],
   "source": [
    "import matplotlib.pyplot as plt\n",
    "import numpy as np\n",
    "\n",
    "# 'x' és la variable independent ('Attendance') i 'y' la variable dependent ('Pts')\n",
    "x = df_uefa['Attendance']\n",
    "y = df_uefa['Pts']\n",
    "\n",
    "# Calculem els coeficients de la línia de regressió\n",
    "coeficients = np.polyfit(x, y, 1)  # El '1' indica regressió lineal (polinomi de grau 1)\n",
    "tendencia = np.poly1d(coeficients)\n",
    "\n",
    "# Creaem el gràfic de dispersió\n",
    "plt.scatter(x, y)\n",
    "\n",
    "# Afegim la línia de tendència al gràfic\n",
    "plt.plot(x, tendencia(x), color='green', label='Línia de Tendència')\n",
    "\n",
    "# Afegim títols i etiquetes\n",
    "plt.title('Gràfic de Dispersió dels Punts respecte a l\\'Assistència')\n",
    "plt.xlabel('Assistance')\n",
    "plt.ylabel('Pts')\n",
    "plt.legend()\n",
    "\n",
    "# Mostrem el gràfic\n",
    "plt.show()\n"
   ]
  },
  {
   "cell_type": "markdown",
   "id": "c4faae94",
   "metadata": {},
   "source": [
    "Com podem veure al gràfic, la relació entre les dues variables és lineal, malgrat que alguns punts estan una mica allunyats de la línia de tendència."
   ]
  },
  {
   "cell_type": "markdown",
   "id": "124621fd",
   "metadata": {},
   "source": [
    "A continuació comprovarem la homocedasticitat, que es dóna quan la variabilitat dels errors (o residus) en un model de regressió és constant al llarg de totes les observacions. Això significa que, independentment del valor que prengui la variable independent (la causa que estem estudiant), la dispersió dels errors en les nostres prediccions (la diferència entre el que el model prediu i el que realment passa) roman igual. La heterocedasticitat és el cas oposat, quan la variabilitat dels errors varia i no és constant a través de les observacions. Els errors poden ser molt grans per a alguns valors de la variable independent i petits per a altres, suggerint que el model potser no està capturant alguna característica important dels dades. Per comprovar-ho gràficament farem un Gràfic de Residus vs. Valors Ajustats."
   ]
  },
  {
   "cell_type": "code",
   "execution_count": 6,
   "id": "d88e2296",
   "metadata": {},
   "outputs": [
    {
     "data": {
      "image/png": "[encoded data removed]",
      "text/plain": [
       "<Figure size 640x480 with 1 Axes>"
      ]
     },
     "metadata": {},
     "output_type": "display_data"
    }
   ],
   "source": [
    "import statsmodels.api as sm\n",
    "import matplotlib.pyplot as plt\n",
    "\n",
    "# Ajustem el model de regressió\n",
    "model = sm.OLS(y, sm.add_constant(x)).fit()\n",
    "predictions = model.predict(sm.add_constant(x))\n",
    "residus = model.resid\n",
    "\n",
    "# Creem el gràfic de residus\n",
    "plt.scatter(predictions, residus)\n",
    "plt.axhline(0, linestyle='--', color='green')\n",
    "plt.xlabel('Valors Ajustats o Prediccions')\n",
    "plt.ylabel('Residus')\n",
    "plt.title('Gràfic de Residus vs. Valors Ajustats')\n",
    "plt.show()\n"
   ]
  },
  {
   "cell_type": "markdown",
   "id": "eabca612",
   "metadata": {},
   "source": [
    "Com podem veure en el gràfic de Residus vs. Valors Ajustats, la variabilitat dels errors o residus es manté constant al llarg del rang de valors ajustats. Aquesta dispersió consistent dels residus al voltant de la línia zero, suggereix que la suposició de homoscedasticitat es compleix per al nostre model de regressió. En casos com aquest, podem tenir més confiança en les nostres inferències estadístiques, com el test d'hipòtesi, ja que es basen en la suposició de variància igual a través de tots els nivells de les variables independents."
   ]
  },
  {
   "cell_type": "markdown",
   "id": "3517c4a0",
   "metadata": {},
   "source": [
    "Ara comprovarem si hi ha normalitat en els residus del nostre model de regressió. És important perquè els tests d'hipòtesi assumeixen que els residus són normalment distribuïts. Ho comprovarem mitjançant un histograma dels residus i un gràfic Q-Q dels residus i alhora aplicant un test de Shapiro-Wilk als residus."
   ]
  },
  {
   "cell_type": "code",
   "execution_count": 7,
   "id": "7d293890",
   "metadata": {},
   "outputs": [
    {
     "data": {
      "image/png": "[encoded data removed]",
      "text/plain": [
       "<Figure size 640x480 with 1 Axes>"
      ]
     },
     "metadata": {},
     "output_type": "display_data"
    },
    {
     "data": {
      "image/png": "[encoded data removed]",
      "text/plain": [
       "<Figure size 640x480 with 1 Axes>"
      ]
     },
     "metadata": {},
     "output_type": "display_data"
    },
    {
     "name": "stdout",
     "output_type": "stream",
     "text": [
      "Estadístic de Shapiro-Wilk: 0.9879190921783447, p-valor: 0.5171495079994202\n"
     ]
    }
   ],
   "source": [
    "import statsmodels.api as sm\n",
    "import matplotlib.pyplot as plt\n",
    "from scipy.stats import shapiro\n",
    "\n",
    "# Ajustem el model de regressió\n",
    "model = sm.OLS(df_uefa['Pts'], sm.add_constant(df_uefa['Attendance'])).fit()\n",
    "\n",
    "# Obtenim els residus\n",
    "residus = model.resid\n",
    "\n",
    "# Creem un histograma dels residus\n",
    "plt.hist(residus, bins=30, edgecolor='black')\n",
    "plt.title('Histograma dels Residus')\n",
    "plt.xlabel('Residus')\n",
    "plt.ylabel('Freqüència')\n",
    "plt.show()\n",
    "\n",
    "# Creem un gràfic Q-Q dels residus\n",
    "sm.qqplot(residus, line ='45')\n",
    "plt.title('Gràfic Q-Q dels Residus')\n",
    "plt.show()\n",
    "\n",
    "# Fem un Test de Shapiro-Wilk per la normalitat dels residus\n",
    "stat, p = shapiro(residus)\n",
    "print(f'Estadístic de Shapiro-Wilk: {stat}, p-valor: {p}')\n"
   ]
  },
  {
   "cell_type": "markdown",
   "id": "924a7146",
   "metadata": {},
   "source": [
    "L'Histograma de residus ens mostra certa normalitat en les dades (en forma de campana simètrica), malgrat que una de les columnes presenta valors atípics o outliers, amb una freqüència superior a 11 i alguns valors centrals són massa baixos (amb una freqüència d'1 aprox.). <br>\n",
    "\n",
    "Pel que fa al Gràfic Q-Q dels residus, els valors es distribueixen en una línia vertical i no diagonal com representaria una normalitat. Això ens porta a pensar que potser hauríem de considerar si un model més complex o diferent (com una regressió no lineal) seria més adequat.\n",
    "\n",
    "Per altra banda, l'estadístic de Shapiro-Wilk ens dóna com a valor 0.9879. Un valor proper a 1 indica que les dades estan més properament alineades amb una distribució normal, com en aquest cas. Això suggereix que la distribució dels residus no es desvien molt de la normalitat. Pel que fa al p-valor, ens diu si hi ha evidència estadística suficient per rebutjar la hipòtesi nul·la de la prova. La hipòtesi nul·la per aquest test és que les dades estan distribuïdes normalment. En aquest cas, un p-valor de 0.517 és molt més gran que el nivell de significació estàndard de 0.05, per la qual cosa no rebutgem la hipòtesi nul·la.\n",
    "\n",
    "Basant-nos en el test de Shapiro-Wilk, no hi ha raons per creure que els residus del model es desvien de la normalitat. Això implica que les suposicions sobre la normalitat dels errors per a les inferències estadístiques associades amb el model creat de regressió són raonablement sòlides."
   ]
  },
  {
   "cell_type": "markdown",
   "id": "f1f89202",
   "metadata": {},
   "source": [
    "Per avaluar la independència dels residus en el nostre model de regressió, ens interessa comprovar si hi ha autocorrelació entre els residus. L'autocorrelació dels residus pot indicar que falta alguna informació en el model, com ara una altra variable explicativa, o que el model no captura adequadament una tendència temporal o espacial. Per fer-ho utilitzarem el Test de Durbin-Watson. "
   ]
  },
  {
   "cell_type": "code",
   "execution_count": 8,
   "id": "ebf9f434",
   "metadata": {},
   "outputs": [
    {
     "name": "stdout",
     "output_type": "stream",
     "text": [
      "Estadístic de Durbin-Watson: 0.6544823053774089\n"
     ]
    }
   ],
   "source": [
    "from statsmodels.stats.stattools import durbin_watson\n",
    "\n",
    "residus = model.resid\n",
    "\n",
    "# Apliquem el test de Durbin-Watson\n",
    "dw = durbin_watson(residus)\n",
    "print(f'Estadístic de Durbin-Watson: {dw}')"
   ]
  },
  {
   "cell_type": "markdown",
   "id": "e05cdd0e",
   "metadata": {},
   "source": [
    "El resultat ens suggereix una autocorrelació positiva significativa entre els residus del model de regressió, ja que un valor menor de 2 indica autocorrelació positiva (un valor de 2.0 suggereix l'absència d'autocorrelació i\n",
    "un valor substancialment més gran que 2.0 indica autocorrelació negativa). Com que en el nostre cas l'estadístic de Durbin-Watson està molt per sota de 2.0, és una indicació forta que els residus consecutius estan correlacionats positivament. Això vol dir que si un residu és positiu, és probable que el següent també ho sigui, i el mateix per als residus negatius.\n",
    "\n",
    "La presència d'autocorrelació en els residus pot ser un indicador de diversos problemes potencials en el model de regressió, com el cas que el model no inclogui alguna variable independent que és important per a la predicció de la variable dependent o que la relació entre les variables sigui no lineal. També pot ser que hi hagi una omissió de variables que afecten la variable dependent, que en aquest cas creiem que és molt probable perquè només hem mirat la variable Attendance quan n'hi ha vàries que poden afectar al resultat del partit i no una de sola."
   ]
  },
  {
   "cell_type": "markdown",
   "id": "36a338df",
   "metadata": {},
   "source": [
    "# Exercici 2"
   ]
  },
  {
   "cell_type": "markdown",
   "id": "0b96876e",
   "metadata": {},
   "source": [
    "Amb el mateix dataset selecciona dos altres atributs del conjunt de dades. Calcula els p-valors i digues si rebutgen la hipòtesi nul·la agafant un alfa de 5%."
   ]
  },
  {
   "cell_type": "markdown",
   "id": "01b200cf",
   "metadata": {},
   "source": [
    "Hem decidit comparar les mitjanes de punts entre equips de dos països diferents. Per fer-ho, farem un t-test."
   ]
  },
  {
   "cell_type": "markdown",
   "id": "180151a7",
   "metadata": {},
   "source": [
    "Primer establim la hipòtesi nul.la i alternativa:\n",
    "\n",
    "H0 = No hi ha diferències estadístiques entre la mitjana de punts dels equips d'Espanya i Anglaterra <br>\n",
    "H1 = Hi ha diferències estadístiques entre la mitjana de punts dels equips d'Espanya i Anglaterra"
   ]
  },
  {
   "cell_type": "code",
   "execution_count": 9,
   "id": "38044667",
   "metadata": {},
   "outputs": [
    {
     "name": "stdout",
     "output_type": "stream",
     "text": [
      "Estadística t: -0.07\n",
      "P-valor: 0.94071\n",
      "No rebutgem la hipòtesi nul·la, no hi ha diferències estadístiques en les mitjanes.\n"
     ]
    }
   ],
   "source": [
    "from scipy.stats import ttest_ind\n",
    "\n",
    "# Comparem la mitjana de punts entre equips d'Espanya i Anglaterra\n",
    "equips_espanya = df_uefa[df_uefa['Country'] == 'ESP']['Pts']\n",
    "equips_anglaterra = df_uefa[df_uefa['Country'] == 'ENG']['Pts']\n",
    "\n",
    "# Calculem el t-test per a dues mostres independents\n",
    "t_stat, p_value = ttest_ind(equips_espanya, equips_anglaterra)\n",
    "\n",
    "# Mostrem els resultats\n",
    "print(f\"Estadística t: {t_stat:.2f}\")\n",
    "print(f\"P-valor: {p_value:.5f}\")\n",
    "\n",
    "# Decidim si rebutjem la hipòtesi nul·la\n",
    "if p_value < 0.05:\n",
    "    print(\"Rebutgem la hipòtesi nul·la, les mitjanes són estadísticament diferents.\")\n",
    "else:\n",
    "    print(\"No rebutgem la hipòtesi nul·la, no hi ha diferències estadístiques en les mitjanes.\")\n"
   ]
  },
  {
   "cell_type": "markdown",
   "id": "a2af11d2",
   "metadata": {},
   "source": [
    "També podem comparar el xG (Expected Goals) entre dues lligues:"
   ]
  },
  {
   "cell_type": "markdown",
   "id": "7bc8a766",
   "metadata": {},
   "source": [
    "Primer establim la hipòtesi nul.la i alternativa:\n",
    "\n",
    "H0 = No hi ha diferències estadístiques entre els gols esperats de les lligues espanyola i anglesa. <br>\n",
    "H1 = Hi ha diferències estadístiques entre els gols esperats de les lligues espanyola i anglesa."
   ]
  },
  {
   "cell_type": "code",
   "execution_count": 11,
   "id": "ec468a74",
   "metadata": {},
   "outputs": [
    {
     "name": "stdout",
     "output_type": "stream",
     "text": [
      "T-statistic: -0.98\n",
      "P-value: 0.33163\n",
      "No rebutgem la hipòtesi nul·la, no hi ha diferències estadístiques entre els XG de les 2 lligues.\n"
     ]
    }
   ],
   "source": [
    "# Comparem la mitjana de xG entre equips de la lliga espanyola i la lliga anglesa\n",
    "xg_espanya = df_uefa[df_uefa['Country'] == 'ESP']['xG']\n",
    "xg_anglaterra = df_uefa[df_uefa['Country'] == 'ENG']['xG']\n",
    "\n",
    "# Realitzem el t-test\n",
    "t_stat, p_value = ttest_ind(xg_espanya, xg_anglaterra)\n",
    "\n",
    "# Mostrem resultats\n",
    "print(f\"T-statistic: {t_stat:.2f}\")\n",
    "print(f\"P-value: {p_value:.5f}\")\n",
    "\n",
    "# Decidim si rebutjem la hipòtesi nul·la\n",
    "if p_value < 0.05:\n",
    "    print(\"Rebutgem la hipòtesi nul·la, hi ha diferències estadístiques entre els XG de les 2 lligues.\")\n",
    "else:\n",
    "    print(\"No rebutgem la hipòtesi nul·la, no hi ha diferències estadístiques entre els XG de les 2 lligues.\")\n"
   ]
  },
  {
   "cell_type": "markdown",
   "id": "f7e78b20",
   "metadata": {},
   "source": [
    "# Exercici 3"
   ]
  },
  {
   "cell_type": "markdown",
   "id": "21ecc873",
   "metadata": {},
   "source": [
    "Continua amb el conjunt de dades adjunt i selecciona tres atributs del conjunt de dades. Calcula el p-valor i digues si rebutja la hipòtesi nul·la agafant un alfa de 5%.\n",
    "\n"
   ]
  },
  {
   "cell_type": "markdown",
   "id": "40689f9a",
   "metadata": {},
   "source": [
    "Els tres atributs que seleccionarem seran:\n",
    "\n",
    "- Country (país), com a variable independent categòrica. Aquesta variable pot servir per agrupar equips en diferents nivells segons el país al qual pertanyen. Per investigar si hi ha diferències en el rendiment (mesurat per qualsevol variable dependent contínua) entre aquests països.\n",
    "\n",
    "- xG (Gols Esperats), com a primera variable dependent contínua. És una mesura del nombre de gols que un equip hauria d'haver marcat basant-se en la qualitat de les oportunitats creades.\n",
    "\n",
    "- xGA (Gols Esperats en Contra), com a segona variable dependent contínua. És una mesura del nombre de gols que un equip hauria d'haver rebut basant-se en la qualitat de les oportunitats concedides.\n",
    "\n",
    "Amb aquestes variables, podem fer un ANOVA (Anàlisi de la variància) per determinar si hi ha diferències significatives en els gols esperats (xG) o els gols esperats en contra (xGA) entre els equips de diferents països."
   ]
  },
  {
   "cell_type": "markdown",
   "id": "37631280",
   "metadata": {},
   "source": [
    "Primer de tot establim les hipòtesis:\n",
    "    \n",
    "H0: No hi ha diferències significatives entre la mitjana de xG o xGA, és la mateixa per a tots els països.\n",
    "\n",
    "H1: Almenys en un país, la mitjana de xG o xGA difereix d'una o més de les altres mitjanes de països."
   ]
  },
  {
   "cell_type": "code",
   "execution_count": 14,
   "id": "0d5fd785",
   "metadata": {},
   "outputs": [
    {
     "name": "stdout",
     "output_type": "stream",
     "text": [
      "El resultat de l'ANOVA per xG és: F=0.42, p=0.79214\n",
      "El resultat de l'ANOVA per xGA és: F=0.69, p=0.60074\n"
     ]
    }
   ],
   "source": [
    "import pandas as pd\n",
    "from scipy import stats\n",
    "\n",
    "# Agrupem les dades per país per a xG i xGA\n",
    "groups_xG = df_uefa.groupby('Country')['xG'].apply(list)\n",
    "groups_xGA = df_uefa.groupby('Country')['xGA'].apply(list)\n",
    "\n",
    "# Realitzem l'ANOVA per a xG\n",
    "anova_result_xG = stats.f_oneway(*groups_xG)\n",
    "\n",
    "# Realitzem l'ANOVA per a xGA\n",
    "anova_result_xGA = stats.f_oneway(*groups_xGA)\n",
    "\n",
    "# Mostrem els resultats\n",
    "print(f\"El resultat de l'ANOVA per xG és: F={anova_result_xG.statistic:.2f}, p={anova_result_xG.pvalue:.5f}\")\n",
    "print(f\"El resultat de l'ANOVA per xGA és: F={anova_result_xGA.statistic:.2f}, p={anova_result_xGA.pvalue:.5f}\")\n"
   ]
  },
  {
   "cell_type": "markdown",
   "id": "01e8ad59",
   "metadata": {},
   "source": [
    "En ambdós casos, els p-valors són molt més grans que el nivell de significació estàndard de 0.05, és a dir que no podem rebutjar la hipòtesi nul.la. Això significa que no hi ha evidència estadística suficient per afirmar que hi ha diferències significatives en els gols esperats marcats (xG) o els gols esperats rebuts (xGA) entre els equips de diferents països del nostre dataset. "
   ]
  }
 ],
 "metadata": {
  "kernelspec": {
   "display_name": "Python 3 (ipykernel)",
   "language": "python",
   "name": "python3"
  },
  "language_info": {
   "codemirror_mode": {
    "name": "ipython",
    "version": 3
   },
   "file_extension": ".py",
   "mimetype": "text/x-python",
   "name": "python",
   "nbconvert_exporter": "python",
   "pygments_lexer": "ipython3",
   "version": "3.11.1"
  }
 },
 "nbformat": 4,
 "nbformat_minor": 5
}
