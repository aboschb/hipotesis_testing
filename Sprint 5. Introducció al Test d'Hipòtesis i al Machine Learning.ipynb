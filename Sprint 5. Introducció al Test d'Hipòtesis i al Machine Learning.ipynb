{
 "cells": [
  {
   "cell_type": "markdown",
   "id": "d34fc570",
   "metadata": {},
   "source": [
    "# Exercici 1"
   ]
  },
  {
   "cell_type": "markdown",
   "id": "e83f1a7e",
   "metadata": {},
   "source": [
    "Descarrega el dataset adjunt de dades oficials de la UEFA i selecciona un atribut del conjunt de dades. Calcula el p-valor i digues si rebutja la hipòtesi nul·la agafant un alfa de 5%. "
   ]
  },
  {
   "cell_type": "code",
   "execution_count": 3,
   "id": "79416b9f",
   "metadata": {},
   "outputs": [
    {
     "data": {
      "text/html": [
       "<div>\n",
       "<style scoped>\n",
       "    .dataframe tbody tr th:only-of-type {\n",
       "        vertical-align: middle;\n",
       "    }\n",
       "\n",
       "    .dataframe tbody tr th {\n",
       "        vertical-align: top;\n",
       "    }\n",
       "\n",
       "    .dataframe thead th {\n",
       "        text-align: right;\n",
       "    }\n",
       "</style>\n",
       "<table border=\"1\" class=\"dataframe\">\n",
       "  <thead>\n",
       "    <tr style=\"text-align: right;\">\n",
       "      <th></th>\n",
       "      <th>Rk</th>\n",
       "      <th>Squad</th>\n",
       "      <th>Country</th>\n",
       "      <th>LgRk</th>\n",
       "      <th>MP</th>\n",
       "      <th>W</th>\n",
       "      <th>D</th>\n",
       "      <th>L</th>\n",
       "      <th>GF</th>\n",
       "      <th>GA</th>\n",
       "      <th>GD</th>\n",
       "      <th>Pts</th>\n",
       "      <th>Pts/G</th>\n",
       "      <th>xG</th>\n",
       "      <th>xGA</th>\n",
       "      <th>xGD</th>\n",
       "      <th>xGD/90</th>\n",
       "      <th>Last 5</th>\n",
       "      <th>Attendance</th>\n",
       "      <th>Top Team Scorer</th>\n",
       "      <th>Goalkeeper</th>\n",
       "    </tr>\n",
       "  </thead>\n",
       "  <tbody>\n",
       "    <tr>\n",
       "      <th>0</th>\n",
       "      <td>1</td>\n",
       "      <td>Manchester City</td>\n",
       "      <td>ENG</td>\n",
       "      <td>1</td>\n",
       "      <td>37</td>\n",
       "      <td>28</td>\n",
       "      <td>6</td>\n",
       "      <td>3</td>\n",
       "      <td>96</td>\n",
       "      <td>24</td>\n",
       "      <td>72</td>\n",
       "      <td>90</td>\n",
       "      <td>2.43</td>\n",
       "      <td>86.1</td>\n",
       "      <td>26.8</td>\n",
       "      <td>59.3</td>\n",
       "      <td>1.60</td>\n",
       "      <td>W W W W D</td>\n",
       "      <td>52739</td>\n",
       "      <td>Kevin De Bruyne - 15</td>\n",
       "      <td>Ederson</td>\n",
       "    </tr>\n",
       "    <tr>\n",
       "      <th>1</th>\n",
       "      <td>2</td>\n",
       "      <td>Liverpool</td>\n",
       "      <td>ENG</td>\n",
       "      <td>2</td>\n",
       "      <td>36</td>\n",
       "      <td>26</td>\n",
       "      <td>8</td>\n",
       "      <td>2</td>\n",
       "      <td>89</td>\n",
       "      <td>24</td>\n",
       "      <td>65</td>\n",
       "      <td>86</td>\n",
       "      <td>2.39</td>\n",
       "      <td>84.6</td>\n",
       "      <td>33.1</td>\n",
       "      <td>51.4</td>\n",
       "      <td>1.43</td>\n",
       "      <td>W W W D W</td>\n",
       "      <td>53367</td>\n",
       "      <td>Mohamed Salah - 22</td>\n",
       "      <td>Alisson</td>\n",
       "    </tr>\n",
       "    <tr>\n",
       "      <th>2</th>\n",
       "      <td>3</td>\n",
       "      <td>Real Madrid</td>\n",
       "      <td>ESP</td>\n",
       "      <td>1</td>\n",
       "      <td>37</td>\n",
       "      <td>26</td>\n",
       "      <td>7</td>\n",
       "      <td>4</td>\n",
       "      <td>80</td>\n",
       "      <td>31</td>\n",
       "      <td>49</td>\n",
       "      <td>85</td>\n",
       "      <td>2.30</td>\n",
       "      <td>73.0</td>\n",
       "      <td>45.8</td>\n",
       "      <td>27.2</td>\n",
       "      <td>0.73</td>\n",
       "      <td>W W L W D</td>\n",
       "      <td>40624</td>\n",
       "      <td>Karim Benzema - 27</td>\n",
       "      <td>Thibaut Courtois</td>\n",
       "    </tr>\n",
       "    <tr>\n",
       "      <th>3</th>\n",
       "      <td>4</td>\n",
       "      <td>Bayern Munich</td>\n",
       "      <td>GER</td>\n",
       "      <td>1</td>\n",
       "      <td>34</td>\n",
       "      <td>24</td>\n",
       "      <td>5</td>\n",
       "      <td>5</td>\n",
       "      <td>97</td>\n",
       "      <td>37</td>\n",
       "      <td>60</td>\n",
       "      <td>77</td>\n",
       "      <td>2.26</td>\n",
       "      <td>88.1</td>\n",
       "      <td>37.1</td>\n",
       "      <td>51.0</td>\n",
       "      <td>1.50</td>\n",
       "      <td>W W L D D</td>\n",
       "      <td>33176</td>\n",
       "      <td>Robert Lewandowski - 35</td>\n",
       "      <td>Manuel Neuer</td>\n",
       "    </tr>\n",
       "    <tr>\n",
       "      <th>4</th>\n",
       "      <td>5</td>\n",
       "      <td>Paris S-G</td>\n",
       "      <td>FRA</td>\n",
       "      <td>1</td>\n",
       "      <td>37</td>\n",
       "      <td>25</td>\n",
       "      <td>8</td>\n",
       "      <td>4</td>\n",
       "      <td>85</td>\n",
       "      <td>36</td>\n",
       "      <td>49</td>\n",
       "      <td>83</td>\n",
       "      <td>2.24</td>\n",
       "      <td>71.6</td>\n",
       "      <td>38.1</td>\n",
       "      <td>33.4</td>\n",
       "      <td>0.90</td>\n",
       "      <td>W D D D W</td>\n",
       "      <td>41188</td>\n",
       "      <td>Kylian Mbappé - 25</td>\n",
       "      <td>Keylor Navas</td>\n",
       "    </tr>\n",
       "  </tbody>\n",
       "</table>\n",
       "</div>"
      ],
      "text/plain": [
       "   Rk            Squad Country  LgRk  MP   W  D  L  GF  GA  GD  Pts  Pts/G  \\\n",
       "0   1  Manchester City     ENG     1  37  28  6  3  96  24  72   90   2.43   \n",
       "1   2        Liverpool     ENG     2  36  26  8  2  89  24  65   86   2.39   \n",
       "2   3      Real Madrid     ESP     1  37  26  7  4  80  31  49   85   2.30   \n",
       "3   4    Bayern Munich     GER     1  34  24  5  5  97  37  60   77   2.26   \n",
       "4   5        Paris S-G     FRA     1  37  25  8  4  85  36  49   83   2.24   \n",
       "\n",
       "     xG   xGA   xGD  xGD/90     Last 5  Attendance          Top Team Scorer  \\\n",
       "0  86.1  26.8  59.3    1.60  W W W W D       52739     Kevin De Bruyne - 15   \n",
       "1  84.6  33.1  51.4    1.43  W W W D W       53367       Mohamed Salah - 22   \n",
       "2  73.0  45.8  27.2    0.73  W W L W D       40624       Karim Benzema - 27   \n",
       "3  88.1  37.1  51.0    1.50  W W L D D       33176  Robert Lewandowski - 35   \n",
       "4  71.6  38.1  33.4    0.90  W D D D W       41188       Kylian Mbappé - 25   \n",
       "\n",
       "         Goalkeeper  \n",
       "0           Ederson  \n",
       "1           Alisson  \n",
       "2  Thibaut Courtois  \n",
       "3      Manuel Neuer  \n",
       "4      Keylor Navas  "
      ]
     },
     "execution_count": 3,
     "metadata": {},
     "output_type": "execute_result"
    }
   ],
   "source": [
    "# Importem les llibreries\n",
    "import pandas as pd\n",
    "import numpy as np\n",
    "import matplotlib.pyplot as plt\n",
    "import seaborn as sns\n",
    "import warnings\n",
    "warnings.filterwarnings('ignore')\n",
    "\n",
    "# Eliminem limitacions en l'amplada de les columnes\n",
    "pd.set_option('display.max_colwidth', None)\n",
    "pd.set_option('display.max_columns', None)\n",
    "\n",
    "# Carreguem el dataset i el visualitzem\n",
    "ruta = 'C:/Users/Ariadna/Desktop/IT ACADEMY/ESPECIALITZACIÓ/SPRINT 5/ENTREGA SPRINT 5/Lligues europees UEFA.csv'\n",
    "df_uefa = pd.read_csv(ruta, sep=';', encoding='latin2') # Especifiquem separadors i encoding\n",
    "df_uefa.head() # Mostrem els primers resultats"
   ]
  },
  {
   "cell_type": "code",
   "execution_count": 4,
   "id": "df4dba15",
   "metadata": {},
   "outputs": [
    {
     "data": {
      "text/plain": [
       "Rk                   int64\n",
       "Squad               object\n",
       "Country             object\n",
       "LgRk                 int64\n",
       "MP                   int64\n",
       "W                    int64\n",
       "D                    int64\n",
       "L                    int64\n",
       "GF                   int64\n",
       "GA                   int64\n",
       "GD                   int64\n",
       "Pts                  int64\n",
       "Pts/G              float64\n",
       "xG                 float64\n",
       "xGA                float64\n",
       "xGD                float64\n",
       "xGD/90             float64\n",
       "Last 5              object\n",
       "Attendance           int64\n",
       "Top Team Scorer     object\n",
       "Goalkeeper          object\n",
       "dtype: object"
      ]
     },
     "execution_count": 4,
     "metadata": {},
     "output_type": "execute_result"
    }
   ],
   "source": [
    "# Observem el tipus de variables del dataset per entendre de què es tracten\n",
    "df_uefa.dtypes"
   ]
  },
  {
   "cell_type": "markdown",
   "id": "659bc883",
   "metadata": {},
   "source": [
    "Primerament descriurem les variables per poder seleccionar un atribut que ens interessi."
   ]
  },
  {
   "cell_type": "markdown",
   "id": "c93eba8f",
   "metadata": {},
   "source": [
    "1. Rk (Classificació): Un nombre enter que representa la classificació de l'equip o el conjunt en una lliga o competició.\n",
    "\n",
    "2. Squad (Equip): Un camp de text o objecte que representa el nom de l'equip de futbol.\n",
    "\n",
    "3. Country (País): El país o la nació associada a l'equip.\n",
    "\n",
    "4. LgRk (Classificació de Lliga): Un nombre enter que representa la classificació de l'equip dins de la lliga.\n",
    "\n",
    "5. MP (Partits Jugats): El nombre de partits jugats per l'equip.\n",
    "\n",
    "6. W (Victòries): El nombre de partits guanyats per l'equip.\n",
    "\n",
    "7. D (Empats): El nombre de partits que han acabat en empat per l'equip.\n",
    "\n",
    "8. L (Derrotes): El nombre de partits perduts per l'equip.\n",
    "\n",
    "9. GF (Gols a Favor): El nombre total de gols marcats per l'equip.\n",
    "\n",
    "10. GA (Gols en Contra): El nombre total de gols encaixats per l'equip.\n",
    "\n",
    "11. GD (Diferència de Gols): La diferència entre els gols marcats (GF) i els gols encaixats (GA).\n",
    "\n",
    "12. Pts (Punts): El nombre total de punts guanyats per l'equip a la lliga o competició.\n",
    "\n",
    "13. Pts/G (Punts Per Partit): El nombre mitjà de punts guanyats per partit.\n",
    "\n",
    "14. xG (Gols Esperats): Una mesura estadística que representa el nombre de gols esperats que un equip hauria de marcar basant-se en diversos factors.\n",
    "\n",
    "15. xGA (Gols Esperats en Contra): El nombre de gols esperats que un equip hauria d'encaixar basant-se en diversos factors.\n",
    "\n",
    "16. xGD (Diferència de Gols Esperada): La diferència entre els gols esperats marcats (xG) i els gols esperats encaixats (xGA).\n",
    "\n",
    "17. xGD/90 (Diferència de Gols Esperada per 90 Minuts): La diferència de gols esperada per cada 90 minuts de joc.\n",
    "\n",
    "18. Last 5 (Últims 5): Variable categòrica que ens dóna informació sobre el rendiment de l'equip en els darrers 5 partits (si ha guanyat o ha perdut). \n",
    "\n",
    "19. Attendance (Assistència): El nombre d'espectadors o seguidors que han assistit als partits de l'equip.\n",
    "\n",
    "20. Top Team Scorer (Golejador Principal): El nom del màxim golejador de l'equip.\n",
    "\n",
    "21. Goalkeeper (Porter): El nom del porter de l'equip."
   ]
  },
  {
   "cell_type": "markdown",
   "id": "9f59f4eb",
   "metadata": {},
   "source": [
    "Com hem pogut veure, el dataset conté informació sobre la UEFA, incloent dades sobre el rendiment de l'equip, estadístiques i altres detalls com l'assistència del públic. Ens pot servir doncs, per analitzar el rendiment dels diferents equips. \n",
    "\n",
    "En aquest cas, hem decidit analitzar si l'assistència de públic influeix en el rendiment de l'equip. Per tant, seleccionarem la variable independent 'Attendance' (Assistència) i la variable dependent 'Pts' (Punts). Amb l'objectiu d'obtenir aquesta informació concreta, definim el test d'hipòtesi següent:\n",
    "- Ho (Hipòtesi nul.la): No hi ha relació entre les variables seleccionades. És a dir, el nivell d'assistència de públic no influeix en el rendiment de l'equip.\n",
    "- Ha (Hipòtesi alternativa): Hi ha una relació entre les variables seleccionades. És a dir, el nivell d'assistència influeix en el rendiment de l'equip."
   ]
  },
  {
   "cell_type": "markdown",
   "id": "2f185aeb",
   "metadata": {},
   "source": [
    "Ara farem un anàlisi de regressió per provar la relació entre l'assistència i els punts guanyats per l'equip, que ens proporcionarà el coeficient per a l'assistència, juntament amb el seu p-valor. D'aquesta manera podrem avaluar la significació estadística de la relació entre aquestes variables."
   ]
  },
  {
   "cell_type": "code",
   "execution_count": 5,
   "id": "aeb6461b",
   "metadata": {},
   "outputs": [
    {
     "name": "stdout",
     "output_type": "stream",
     "text": [
      "                            OLS Regression Results                            \n",
      "==============================================================================\n",
      "Dep. Variable:                    Pts   R-squared:                       0.336\n",
      "Model:                            OLS   Adj. R-squared:                  0.329\n",
      "Method:                 Least Squares   F-statistic:                     48.48\n",
      "Date:                Tue, 17 Oct 2023   Prob (F-statistic):           4.14e-10\n",
      "Time:                        16:35:03   Log-Likelihood:                -391.25\n",
      "No. Observations:                  98   AIC:                             786.5\n",
      "Df Residuals:                      96   BIC:                             791.7\n",
      "Df Model:                           1                                         \n",
      "Covariance Type:            nonrobust                                         \n",
      "==============================================================================\n",
      "                 coef    std err          t      P>|t|      [0.025      0.975]\n",
      "------------------------------------------------------------------------------\n",
      "const         34.4736      2.568     13.424      0.000      29.376      39.571\n",
      "Attendance     0.0006   9.04e-05      6.963      0.000       0.000       0.001\n",
      "==============================================================================\n",
      "Omnibus:                        2.117   Durbin-Watson:                   0.654\n",
      "Prob(Omnibus):                  0.347   Jarque-Bera (JB):                1.512\n",
      "Skew:                           0.063   Prob(JB):                        0.470\n",
      "Kurtosis:                       2.405   Cond. No.                     5.45e+04\n",
      "==============================================================================\n",
      "\n",
      "Notes:\n",
      "[1] Standard Errors assume that the covariance matrix of the errors is correctly specified.\n",
      "[2] The condition number is large, 5.45e+04. This might indicate that there are\n",
      "strong multicollinearity or other numerical problems.\n"
     ]
    }
   ],
   "source": [
    "# Importem la llibreria necessària per fer els càlculs\n",
    "import statsmodels.api as sm\n",
    "\n",
    "# Defineim les variables independents i dependents\n",
    "X = df_uefa['Attendance']  # Variable independent (assistència)\n",
    "y = df_uefa['Pts']         # Variable dependent (punts)\n",
    "\n",
    "# Afegim una constant per al model\n",
    "X = sm.add_constant(X)\n",
    "\n",
    "# Creem el model de regressió\n",
    "model = sm.OLS(y, X).fit()\n",
    "\n",
    "# Obtenim els resultats de la regressió\n",
    "resultats = model.summary()\n",
    "\n",
    "# Mostrem els resultats\n",
    "print(resultats)\n"
   ]
  },
  {
   "cell_type": "markdown",
   "id": "7efe45c5",
   "metadata": {},
   "source": [
    "Els resultats de l'anàlisi de regressió són els següents:\n",
    "\n",
    "R-squared (R²): Aquesta és la proporció de la variabilitat de la variable dependent (Pts) que s'explica per la variable independent (Attendance). En aquest cas, R² és 0,336, el que significa que aproximadament el 33,6% de la variabilitat en els punts de l'equip es pot explicar per l'assistència. Això suggereix que hi ha una correlació moderada entre l'assistència i els punts de l'equip.\n",
    "\n",
    "F-statistic: Aquest valor estadístic és utilitzat per avaluar la significació global del model de regressió. En aquest cas és 48,48, i el p-valor associat és 4.14e-10 (pràcticament zero). Això indica que el model de regressió és estadísticament significatiu i que l'ús de l'assistència com a variable independent té un impacte significatiu en la predicció dels punts de l'equip.\n",
    "\n",
    "Coeficients:\n",
    "   - El coeficient constant (const) és 34,4736. Això significa que quan l'assistència és zero, es pot esperar que l'equip tingui al voltant de 34,47 punts.\n",
    "   - El coeficient de l'assistència (Attendance) és 0,0006. Això indica que per cada unitat addicional d'assistència, es pot esperar un augment de 0,0006 punts en la puntuació de l'equip.\n",
    "\n",
    "P-value: El p-valor associat al coeficient de l'assistència és 0,000, el que és molt menor que el nivell de significació típic d'α = 0,05. Segons els resultats de l'anàlisi de regressió, l'assistència té un impacte significatiu en els punts de l'equip. El model de regressió és estadísticament significatiu, i l'assistència té una influència positiva en el rendiment de l'equip en terme de punts."
   ]
  },
  {
   "cell_type": "markdown",
   "id": "22a6fb0b",
   "metadata": {},
   "source": [
    "Finalment, volem saber si amb un nivell de significació del 5% (α = 0.05), el p-valor rebutja la hipòtesi nul.la. En aquest cas, el p-valor és 0.000, que és menor que α = 0.05. Això significa que podem rebutjar la hipòtesi nul.la i que per tant, hi ha prou evidència estadística per concloure que l'assistència influeix en el rendiment de l'equip en terme de punts amb un nivell de confiança del 95%."
   ]
  },
  {
   "cell_type": "markdown",
   "id": "36a338df",
   "metadata": {},
   "source": [
    "# Exercici 2"
   ]
  },
  {
   "cell_type": "markdown",
   "id": "0b96876e",
   "metadata": {},
   "source": [
    "Amb el mateix dataset selecciona dos altres atributs del conjunt de dades. Calcula els p-valors i digues si rebutgen la hipòtesi nul·la agafant un alfa de 5%."
   ]
  },
  {
   "cell_type": "markdown",
   "id": "01b200cf",
   "metadata": {},
   "source": [
    "Ara analitzarem si la diferència de gols (GD) està relacionada amb el golejador principal (Top Team Scorer) en terme de punts obtinguts per l'equip."
   ]
  },
  {
   "cell_type": "code",
   "execution_count": 6,
   "id": "38044667",
   "metadata": {},
   "outputs": [
    {
     "name": "stdout",
     "output_type": "stream",
     "text": [
      "Coeficient de correlació de Pearson entre GD i Pts: 0.96\n",
      "P-valor: 0.00000\n"
     ]
    }
   ],
   "source": [
    "# En aquest cas calcularem el coeficient de Pearson i el seu p-valor associat\n",
    "# Importem la llibreria\n",
    "from scipy.stats import pearsonr\n",
    "\n",
    "# Seleccionem les variables GD i Pts i les guardem en una variable\n",
    "dades = df_uefa[['GD', 'Pts']]\n",
    "\n",
    "# Calculem el coeficient de correlació de Pearson i el p-valor\n",
    "correlacio, p_value = pearsonr(dades['GD'], dades['Pts'])\n",
    "\n",
    "# Mostrem el resultat\n",
    "print(f\"Coeficient de correlació de Pearson entre GD i Pts: {correlacio:.2f}\")\n",
    "print(f\"P-valor: {p_value:.5f}\")\n"
   ]
  },
  {
   "cell_type": "markdown",
   "id": "1ce01ddc",
   "metadata": {},
   "source": [
    "Com a segona variable a analitzar juntament amb la diferència de gols (GD) i els punts (Pts), analitzarem \"xG\", que representa el nombre de gols esperats que un equip hauria de marcar. Això ens pot ajudar a comprendre si l'equip aprofita al màxim les seves oportunitats o si està jugant per sota de les expectatives. Amb tot, analitzarem com la diferència entre el rendiment real i el rendiment esperat està relacionada amb els punts de l'equip."
   ]
  },
  {
   "cell_type": "code",
   "execution_count": 7,
   "id": "dce4713f",
   "metadata": {},
   "outputs": [
    {
     "name": "stdout",
     "output_type": "stream",
     "text": [
      "Coeficient de correlació de Pearson entre xG i Pts: 0.85\n",
      "P-valor: 0.00000\n"
     ]
    }
   ],
   "source": [
    "# Seleccionem les variables xG i Pts i les guardem en una variable\n",
    "dades_2 = df_uefa[['xG', 'Pts']]\n",
    "\n",
    "# Calculem el coeficient de correlació de Pearson i el p-valor\n",
    "correlacio, p_value = pearsonr(dades_2['xG'], dades_2['Pts'])\n",
    "\n",
    "# Mostrem el resultat\n",
    "print(f\"Coeficient de correlació de Pearson entre xG i Pts: {correlacio:.2f}\")\n",
    "print(f\"P-valor: {p_value:.5f}\")"
   ]
  },
  {
   "cell_type": "markdown",
   "id": "cfa47d3a",
   "metadata": {},
   "source": [
    "Ara valorarem i compararem els resultats obtinguts. Per una banda, el coeficient de correlació de Pearson entre 'GD' i 'Pts' és 0.96. Això indica una correlació altament positiva i significativa entre aquestes dues variables. En altres paraules, a mesura que la diferència de gols augmenta (sigui a favor de l'equip), també augmenten els punts obtinguts per l'equip.\n",
    "El p-valor és 0.00000, el que significa que la correlació és estadísticament significativa. No hi ha evidència per rebutjar la hipòtesi que hi ha una forta relació entre la diferència de gols i els punts.\n",
    "\n",
    "Per una altra banda, el coeficient de correlació de Pearson entre xG i Pts és 0.85. Això indica també una correlació positiva i significativa entre aquestes dues variables, és a dir que les xifres de gols esperats estan relacionades amb el nombre de punts obtinguts per l'equip. El p-valor també és 0.00000, la qual cosa suggereix que la correlació és estadísticament significativa (no hi ha evidència per rebutjar la hipòtesi que hi ha una relació entre els gols esperats i els punts.\n",
    "\n",
    "En resum, ambdues variables estan fortament correlacionades amb els punts de l'equip i les correlacions són estadísticament significatives. "
   ]
  },
  {
   "cell_type": "markdown",
   "id": "f7e78b20",
   "metadata": {},
   "source": [
    "# Exercici 3"
   ]
  },
  {
   "cell_type": "markdown",
   "id": "21ecc873",
   "metadata": {},
   "source": [
    "Continua amb el conjunt de dades adjunt i selecciona tres atributs del conjunt de dades. Calcula el p-valor i digues si rebutja la hipòtesi nul·la agafant un alfa de 5%.\n",
    "\n"
   ]
  },
  {
   "cell_type": "markdown",
   "id": "40689f9a",
   "metadata": {},
   "source": [
    "Els tres atributs que seleccionarem seran:\n",
    "- xGA (expected goals against, és a dir els gols que s'espera rebre de l'equip contrari)\n",
    "- Attendance (assistència)\n",
    "- Last 5 (últims 5 partits) \n",
    "\n",
    "Pel que fa a la variable Last 5, la convertirem en puntuació numèrica (ara la tenim com a W/D/L: win/draw/lose). La codificació serà 3 punts si l'equip guanya, 1 punt si l'equip empata i 0 punts si l'equip perd.\n",
    "\n",
    "De cara a l'anàlisi, per a cada atribut, realitzarem una regressió lineal amb Pts (Punts) com a variable dependent i calcularem el p-valor associat amb el coeficient de la variable independent."
   ]
  },
  {
   "cell_type": "code",
   "execution_count": 11,
   "id": "0d5fd785",
   "metadata": {},
   "outputs": [
    {
     "name": "stdout",
     "output_type": "stream",
     "text": [
      "P-valor per xGA: 3.5498199799103233e-22\n",
      "P-valor per Attendance: 4.138186008962836e-10\n",
      "P-valor per Last 5: 1.0253373817491734e-14\n"
     ]
    }
   ],
   "source": [
    "# Importem la llibreria\n",
    "import statsmodels.api as sm \n",
    "\n",
    "# Fem l'anàlisi per a la variable xGA\n",
    "X1 = df_uefa['xGA']  # Seleccionem la columna 'xGA' com a variable independent\n",
    "X1 = sm.add_constant(X1)  # Afegim una constant per tenir un intercepte en la regressió\n",
    "y = df_uefa['Pts']  # Seleccionem la columna 'Pts' com a variable dependent\n",
    "model1 = sm.OLS(y, X1).fit()  # Realitzem la regressió lineal\n",
    "p_value_xGA = model1.pvalues['xGA']  # Obtenim el p-valor associat amb la variable xGA\n",
    "\n",
    "# Fem l'anàlisi per a la variable Attendance\n",
    "X2 = df_uefa['Attendance']  # Seleccionem la columna 'Attendance' com a variable independent\n",
    "X2 = sm.add_constant(X2)  # Afegim una constant per tenir un intercepte en la regressió\n",
    "model2 = sm.OLS(y, X2).fit()  # Realitzem la regressió lineal\n",
    "p_value_Attendance = model2.pvalues['Attendance']  # Obtenim el p-valor associat amb la variable Attendance\n",
    "\n",
    "# Fem l'anàlisi per a la variable Last 5 (codificada)\n",
    "df_uefa['Last5_score'] = df_uefa['Last 5'].apply(lambda x: x.count('W')*3 + x.count('D'))  # Codifiquem resultats\n",
    "X3 = df_uefa['Last5_score']  # Seleccionem la columna 'Last5_score' com a variable independent\n",
    "X3 = sm.add_constant(X3)  # Afegim una constant per tenir un intercepte en la regressió\n",
    "model3 = sm.OLS(y, X3).fit()  # Realitzem la regressió lineal\n",
    "p_value_Last5 = model3.pvalues['Last5_score']  # Obtenim el p-valor associat amb la variable Last5_score\n",
    "\n",
    "# Mostrem els resultats\n",
    "print(f\"P-valor per xGA: {p_value_xGA}\")\n",
    "print(f\"P-valor per Attendance: {p_value_Attendance}\")\n",
    "print(f\"P-valor per Last 5: {p_value_Last5}\")"
   ]
  },
  {
   "cell_type": "markdown",
   "id": "babd4732",
   "metadata": {},
   "source": [
    " Basant-nos en els p-valors que hem obtingut (valors molt baixos), podem concloure que les tres variables (xGA, Attendance i Last 5) estan significativament relacionades amb els punts obtinguts. Aquestes relacions són estadísticament significatives amb un nivell de confiança molt alt. En els tres casos rebutgem la hipòtesi nul.la perquè el p-valor és inferior al nivell de significació del 5%."
   ]
  }
 ],
 "metadata": {
  "kernelspec": {
   "display_name": "Python 3 (ipykernel)",
   "language": "python",
   "name": "python3"
  },
  "language_info": {
   "codemirror_mode": {
    "name": "ipython",
    "version": 3
   },
   "file_extension": ".py",
   "mimetype": "text/x-python",
   "name": "python",
   "nbconvert_exporter": "python",
   "pygments_lexer": "ipython3",
   "version": "3.11.1"
  }
 },
 "nbformat": 4,
 "nbformat_minor": 5
}
